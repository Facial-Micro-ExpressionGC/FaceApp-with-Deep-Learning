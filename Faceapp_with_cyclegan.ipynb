{
  "nbformat": 4,
  "nbformat_minor": 0,
  "metadata": {
    "kernelspec": {
      "display_name": "Python 3",
      "language": "python",
      "name": "python3"
    },
    "language_info": {
      "codemirror_mode": {
        "name": "ipython",
        "version": 3
      },
      "file_extension": ".py",
      "mimetype": "text/x-python",
      "name": "python",
      "nbconvert_exporter": "python",
      "pygments_lexer": "ipython3",
      "version": "3.6.8"
    },
    "colab": {
      "name": "Faceapp with cyclegan.ipynb",
      "provenance": []
    }
  },
  "cells": [
    {
      "cell_type": "markdown",
      "metadata": {
        "id": "Z6JknUuqL6r_",
        "colab_type": "text"
      },
      "source": [
        "Download data"
      ]
    },
    {
      "cell_type": "code",
      "metadata": {
        "id": "rqB8gqq5L6sD",
        "colab_type": "code",
        "colab": {}
      },
      "source": [
        "import requests\n",
        "\n",
        "def download_file_from_google_drive(id, destination):\n",
        "    URL = \"https://docs.google.com/uc?export=download\"\n",
        "\n",
        "    session = requests.Session()\n",
        "\n",
        "    response = session.get(URL, params = { 'id' : id }, stream = True)\n",
        "    token = get_confirm_token(response)\n",
        "\n",
        "    if token:\n",
        "        params = { 'id' : id, 'confirm' : token }\n",
        "        response = session.get(URL, params = params, stream = True)\n",
        "\n",
        "    save_response_content(response, destination)    \n",
        "\n",
        "def get_confirm_token(response):\n",
        "    for key, value in response.cookies.items():\n",
        "        if key.startswith('download_warning'):\n",
        "            return value\n",
        "\n",
        "    return None\n",
        "\n",
        "def save_response_content(response, destination):\n",
        "    CHUNK_SIZE = 32768\n",
        "\n",
        "    with open(destination, \"wb\") as f:\n",
        "        for chunk in response.iter_content(CHUNK_SIZE):\n",
        "            if chunk: # filter out keep-alive new chunks\n",
        "                f.write(chunk)\n",
        "\n",
        "if __name__ == \"__main__\":\n",
        "    file_id = 'TAKE ID FROM SHAREABLE LINK'\n",
        "    destination = 'DESTINATION FILE ON YOUR DISK'\n",
        "    download_file_from_google_drive(\"0BxYys69jI14kYVM3aVhKS1VhRUk\", \"UTKFace.tar.gz\")"
      ],
      "execution_count": 0,
      "outputs": []
    },
    {
      "cell_type": "markdown",
      "metadata": {
        "id": "jG__fcyyL6sL",
        "colab_type": "text"
      },
      "source": [
        "Install dependancies"
      ]
    },
    {
      "cell_type": "code",
      "metadata": {
        "id": "zAMUuuzLL6sM",
        "colab_type": "code",
        "colab": {},
        "outputId": "21f9b245-d402-44b2-8542-5af6de834b6e"
      },
      "source": [
        "!pip install opencv-python\n",
        "!apt update && apt install -y libsm6 libxext6 libxrender-dev"
      ],
      "execution_count": 0,
      "outputs": [
        {
          "output_type": "stream",
          "text": [
            "Requirement already satisfied: opencv-python in /usr/local/lib/python3.6/dist-packages (4.1.1.26)\n",
            "Requirement already satisfied: numpy>=1.11.3 in /usr/local/lib/python3.6/dist-packages (from opencv-python) (1.17.0)\n",
            "\u001b[33mWARNING: You are using pip version 19.2.1, however version 19.3.1 is available.\n",
            "You should consider upgrading via the 'pip install --upgrade pip' command.\u001b[0m\n",
            "Hit:1 http://security.ubuntu.com/ubuntu bionic-security InRelease\n",
            "Hit:2 http://archive.ubuntu.com/ubuntu bionic InRelease                  \u001b[0m\n",
            "Hit:3 http://ppa.launchpad.net/deadsnakes/ppa/ubuntu bionic InRelease    \u001b[0m\n",
            "Hit:4 http://archive.ubuntu.com/ubuntu bionic-updates InRelease          \u001b[33m\n",
            "Hit:5 http://archive.ubuntu.com/ubuntu bionic-backports InRelease\n",
            "Reading package lists... Done\u001b[0m\u001b[33m             \u001b[33m\u001b[33m\n",
            "Building dependency tree       \n",
            "Reading state information... Done\n",
            "56 packages can be upgraded. Run 'apt list --upgradable' to see them.\n",
            "Reading package lists... Done\n",
            "Building dependency tree       \n",
            "Reading state information... Done\n",
            "libsm6 is already the newest version (2:1.2.2-1).\n",
            "libxext6 is already the newest version (2:1.3.3-1).\n",
            "libxrender-dev is already the newest version (1:0.9.10-1).\n",
            "0 upgraded, 0 newly installed, 0 to remove and 56 not upgraded.\n"
          ],
          "name": "stdout"
        }
      ]
    },
    {
      "cell_type": "code",
      "metadata": {
        "id": "2u_PltrlL6sR",
        "colab_type": "code",
        "colab": {},
        "outputId": "678d1c71-d2e1-4f8f-ed8b-95b43140c286"
      },
      "source": [
        "!pip install requests"
      ],
      "execution_count": 0,
      "outputs": [
        {
          "output_type": "stream",
          "text": [
            "Requirement already satisfied: requests in /usr/local/lib/python3.6/dist-packages (2.22.0)\n",
            "Requirement already satisfied: urllib3!=1.25.0,!=1.25.1,<1.26,>=1.21.1 in /usr/local/lib/python3.6/dist-packages (from requests) (1.25.6)\n",
            "Requirement already satisfied: certifi>=2017.4.17 in /usr/local/lib/python3.6/dist-packages (from requests) (2019.9.11)\n",
            "Requirement already satisfied: chardet<3.1.0,>=3.0.2 in /usr/local/lib/python3.6/dist-packages (from requests) (3.0.4)\n",
            "Requirement already satisfied: idna<2.9,>=2.5 in /usr/local/lib/python3.6/dist-packages (from requests) (2.8)\n",
            "\u001b[33mWARNING: You are using pip version 19.2.1, however version 19.3.1 is available.\n",
            "You should consider upgrading via the 'pip install --upgrade pip' command.\u001b[0m\n"
          ],
          "name": "stdout"
        }
      ]
    },
    {
      "cell_type": "code",
      "metadata": {
        "id": "ggA3CBobL6sV",
        "colab_type": "code",
        "colab": {},
        "outputId": "2a621fcb-9c29-44a7-87b1-eaa302e69b1d"
      },
      "source": [
        "!pip install keras"
      ],
      "execution_count": 0,
      "outputs": [
        {
          "output_type": "stream",
          "text": [
            "Requirement already satisfied: keras in /usr/local/lib/python3.6/dist-packages (2.3.1)\n",
            "Requirement already satisfied: numpy>=1.9.1 in /usr/local/lib/python3.6/dist-packages (from keras) (1.17.0)\n",
            "Requirement already satisfied: six>=1.9.0 in /usr/local/lib/python3.6/dist-packages (from keras) (1.12.0)\n",
            "Requirement already satisfied: pyyaml in /usr/local/lib/python3.6/dist-packages (from keras) (5.1.2)\n",
            "Requirement already satisfied: h5py in /usr/local/lib/python3.6/dist-packages (from keras) (2.9.0)\n",
            "Requirement already satisfied: keras-preprocessing>=1.0.5 in /usr/local/lib/python3.6/dist-packages (from keras) (1.1.0)\n",
            "Requirement already satisfied: scipy>=0.14 in /usr/local/lib/python3.6/dist-packages (from keras) (1.0.0)\n",
            "Requirement already satisfied: keras-applications>=1.0.6 in /usr/local/lib/python3.6/dist-packages (from keras) (1.0.8)\n",
            "\u001b[33mWARNING: You are using pip version 19.2.1, however version 19.3.1 is available.\n",
            "You should consider upgrading via the 'pip install --upgrade pip' command.\u001b[0m\n"
          ],
          "name": "stdout"
        }
      ]
    },
    {
      "cell_type": "code",
      "metadata": {
        "id": "HGD_V5WTL6sZ",
        "colab_type": "code",
        "colab": {},
        "outputId": "d5429567-4cc5-4761-c1d9-2a4d9f5d1a25"
      },
      "source": [
        "!pip install imageio"
      ],
      "execution_count": 0,
      "outputs": [
        {
          "output_type": "stream",
          "text": [
            "Requirement already satisfied: imageio in /usr/local/lib/python3.6/dist-packages (2.6.1)\n",
            "Requirement already satisfied: pillow in /usr/local/lib/python3.6/dist-packages (from imageio) (6.2.1)\n",
            "Requirement already satisfied: numpy in /usr/local/lib/python3.6/dist-packages (from imageio) (1.17.0)\n",
            "\u001b[33mWARNING: You are using pip version 19.2.1, however version 19.3.1 is available.\n",
            "You should consider upgrading via the 'pip install --upgrade pip' command.\u001b[0m\n"
          ],
          "name": "stdout"
        }
      ]
    },
    {
      "cell_type": "code",
      "metadata": {
        "id": "kH2Y-2hUL6sf",
        "colab_type": "code",
        "colab": {},
        "outputId": "e8f49b50-2fb8-413b-c7fe-a018a261576a"
      },
      "source": [
        "pip install scikit-image"
      ],
      "execution_count": 0,
      "outputs": [
        {
          "output_type": "stream",
          "text": [
            "Requirement already satisfied: scikit-image in /usr/local/lib/python3.6/dist-packages (0.16.2)\n",
            "Requirement already satisfied: PyWavelets>=0.4.0 in /usr/local/lib/python3.6/dist-packages (from scikit-image) (1.1.1)\n",
            "Requirement already satisfied: imageio>=2.3.0 in /usr/local/lib/python3.6/dist-packages (from scikit-image) (2.6.1)\n",
            "Requirement already satisfied: pillow>=4.3.0 in /usr/local/lib/python3.6/dist-packages (from scikit-image) (6.2.1)\n",
            "Requirement already satisfied: scipy>=0.19.0 in /usr/local/lib/python3.6/dist-packages (from scikit-image) (1.0.0)\n",
            "Requirement already satisfied: matplotlib!=3.0.0,>=2.0.0 in /usr/local/lib/python3.6/dist-packages (from scikit-image) (3.1.1)\n",
            "Requirement already satisfied: networkx>=2.0 in /usr/local/lib/python3.6/dist-packages (from scikit-image) (2.4)\n",
            "Requirement already satisfied: numpy>=1.13.3 in /usr/local/lib/python3.6/dist-packages (from PyWavelets>=0.4.0->scikit-image) (1.17.0)\n",
            "Requirement already satisfied: python-dateutil>=2.1 in /usr/local/lib/python3.6/dist-packages (from matplotlib!=3.0.0,>=2.0.0->scikit-image) (2.8.0)\n",
            "Requirement already satisfied: kiwisolver>=1.0.1 in /usr/local/lib/python3.6/dist-packages (from matplotlib!=3.0.0,>=2.0.0->scikit-image) (1.1.0)\n",
            "Requirement already satisfied: cycler>=0.10 in /usr/local/lib/python3.6/dist-packages (from matplotlib!=3.0.0,>=2.0.0->scikit-image) (0.10.0)\n",
            "Requirement already satisfied: pyparsing!=2.0.4,!=2.1.2,!=2.1.6,>=2.0.1 in /usr/local/lib/python3.6/dist-packages (from matplotlib!=3.0.0,>=2.0.0->scikit-image) (2.4.2)\n",
            "Requirement already satisfied: decorator>=4.3.0 in /usr/local/lib/python3.6/dist-packages (from networkx>=2.0->scikit-image) (4.4.0)\n",
            "Requirement already satisfied: six>=1.5 in /usr/local/lib/python3.6/dist-packages (from python-dateutil>=2.1->matplotlib!=3.0.0,>=2.0.0->scikit-image) (1.12.0)\n",
            "Requirement already satisfied: setuptools in /usr/local/lib/python3.6/dist-packages (from kiwisolver>=1.0.1->matplotlib!=3.0.0,>=2.0.0->scikit-image) (41.0.1)\n",
            "\u001b[33mWARNING: You are using pip version 19.2.1, however version 19.3.1 is available.\n",
            "You should consider upgrading via the 'pip install --upgrade pip' command.\u001b[0m\n",
            "Note: you may need to restart the kernel to use updated packages.\n"
          ],
          "name": "stdout"
        }
      ]
    },
    {
      "cell_type": "code",
      "metadata": {
        "id": "evmDo4lEL6si",
        "colab_type": "code",
        "colab": {},
        "outputId": "efed6cee-164e-4fd9-8ec2-d745735e42db"
      },
      "source": [
        "pip install git+https://www.github.com/keras-team/keras-contrib.git"
      ],
      "execution_count": 0,
      "outputs": [
        {
          "output_type": "stream",
          "text": [
            "Collecting git+https://www.github.com/keras-team/keras-contrib.git\n",
            "  Cloning https://www.github.com/keras-team/keras-contrib.git to /tmp/pip-req-build-cb02u0tq\n",
            "  Running command git clone -q https://www.github.com/keras-team/keras-contrib.git /tmp/pip-req-build-cb02u0tq\n",
            "Requirement already satisfied (use --upgrade to upgrade): keras-contrib==2.0.8 from git+https://www.github.com/keras-team/keras-contrib.git in /usr/local/lib/python3.6/dist-packages\n",
            "Requirement already satisfied: keras in /usr/local/lib/python3.6/dist-packages (from keras-contrib==2.0.8) (2.3.1)\n",
            "Requirement already satisfied: numpy>=1.9.1 in /usr/local/lib/python3.6/dist-packages (from keras->keras-contrib==2.0.8) (1.17.0)\n",
            "Requirement already satisfied: scipy>=0.14 in /usr/local/lib/python3.6/dist-packages (from keras->keras-contrib==2.0.8) (1.0.0)\n",
            "Requirement already satisfied: six>=1.9.0 in /usr/local/lib/python3.6/dist-packages (from keras->keras-contrib==2.0.8) (1.12.0)\n",
            "Requirement already satisfied: h5py in /usr/local/lib/python3.6/dist-packages (from keras->keras-contrib==2.0.8) (2.9.0)\n",
            "Requirement already satisfied: keras-preprocessing>=1.0.5 in /usr/local/lib/python3.6/dist-packages (from keras->keras-contrib==2.0.8) (1.1.0)\n",
            "Requirement already satisfied: pyyaml in /usr/local/lib/python3.6/dist-packages (from keras->keras-contrib==2.0.8) (5.1.2)\n",
            "Requirement already satisfied: keras-applications>=1.0.6 in /usr/local/lib/python3.6/dist-packages (from keras->keras-contrib==2.0.8) (1.0.8)\n",
            "Building wheels for collected packages: keras-contrib\n",
            "  Building wheel for keras-contrib (setup.py) ... \u001b[?25ldone\n",
            "\u001b[?25h  Created wheel for keras-contrib: filename=keras_contrib-2.0.8-cp36-none-any.whl size=101066 sha256=68de7423387edc16657b45e20a18f8851d35a22fd6318ec7a9ab9e27fb81f4b4\n",
            "  Stored in directory: /tmp/pip-ephem-wheel-cache-766jbcky/wheels/11/27/c8/4ed56de7b55f4f61244e2dc6ef3cdbaff2692527a2ce6502ba\n",
            "Successfully built keras-contrib\n",
            "\u001b[33mWARNING: You are using pip version 19.2.1, however version 19.3.1 is available.\n",
            "You should consider upgrading via the 'pip install --upgrade pip' command.\u001b[0m\n",
            "Note: you may need to restart the kernel to use updated packages.\n"
          ],
          "name": "stdout"
        }
      ]
    },
    {
      "cell_type": "markdown",
      "metadata": {
        "id": "70ivFjysL6sn",
        "colab_type": "text"
      },
      "source": [
        "Arrange data"
      ]
    },
    {
      "cell_type": "code",
      "metadata": {
        "id": "MylXMrwfL6sp",
        "colab_type": "code",
        "colab": {},
        "outputId": "62d52642-59aa-41d1-d245-f034c29765f5"
      },
      "source": [
        "!gunzip UTKFace.tar.gz\n",
        "!tar -xf UTKFace.tar"
      ],
      "execution_count": 0,
      "outputs": [
        {
          "output_type": "stream",
          "text": [
            "gzip: UTKFace.tar already exists; do you wish to overwrite (y or n)? ^C\n"
          ],
          "name": "stdout"
        }
      ]
    },
    {
      "cell_type": "code",
      "metadata": {
        "id": "yJPg5-F9L6sv",
        "colab_type": "code",
        "colab": {},
        "outputId": "ff72b216-fa17-4cd6-a12b-76a2382e11ef"
      },
      "source": [
        "!mkdir data\n",
        "!mkdir data/trainA data/trainB "
      ],
      "execution_count": 0,
      "outputs": [
        {
          "output_type": "stream",
          "text": [
            "mkdir: cannot create directory ‘data’: File exists\n",
            "mkdir: cannot create directory ‘data/trainA’: File exists\n",
            "mkdir: cannot create directory ‘data/trainB’: File exists\n"
          ],
          "name": "stdout"
        }
      ]
    },
    {
      "cell_type": "code",
      "metadata": {
        "id": "EUosNM-SL6s0",
        "colab_type": "code",
        "colab": {},
        "outputId": "17e57906-284b-44ee-8585-6ef8f22aeec2"
      },
      "source": [
        "import os, shutil\n",
        "images = os.listdir(\"UTKFace\")\n",
        "for f in images:\n",
        "  try:\n",
        "    val = f.split(\"_\")\n",
        "    age = int(val[0])\n",
        "    race = int(val[2])\n",
        "    if(age >=20 and age<=30):\n",
        "      shutil.copy(\"UTKFace/\"+f, \"data/trainA\")\n",
        "    if(age >=50 and age<=60):\n",
        "      shutil.copy(\"UTKFace/\"+f, \"data/trainB\")   \n",
        "  except:\n",
        "    print(f)"
      ],
      "execution_count": 0,
      "outputs": [
        {
          "output_type": "stream",
          "text": [
            "61_1_20170109142408075.jpg.chip.jpg\n",
            "39_1_20170116174525125.jpg.chip.jpg\n",
            "61_1_20170109150557335.jpg.chip.jpg\n"
          ],
          "name": "stdout"
        }
      ]
    },
    {
      "cell_type": "markdown",
      "metadata": {
        "id": "_kaDdigyL6s3",
        "colab_type": "text"
      },
      "source": [
        "Dataloader and preprocessing for input images"
      ]
    },
    {
      "cell_type": "code",
      "metadata": {
        "id": "1BJOKj9gL6s4",
        "colab_type": "code",
        "colab": {}
      },
      "source": [
        "import scipy\n",
        "from glob import glob\n",
        "import numpy as np\n",
        "from skimage.transform import resize\n",
        "import imageio\n",
        "\n",
        "class DataLoader():\n",
        "    def __init__(self, dataset_name, img_res=(128, 128)):\n",
        "        self.dataset_name = dataset_name\n",
        "        self.img_res = img_res\n",
        "\n",
        "    def load_data(self, domain, batch_size=1, is_testing=False):\n",
        "        path = glob('./%s/%s%s/*' % (self.dataset_name, \"train\", domain))\n",
        "        #data_type = \"train%s\" % domain if not is_testing else \"test%s\" % domain\n",
        "        \n",
        "        \n",
        "        batch_images = np.random.choice(path, size=batch_size)\n",
        "        imgs = []\n",
        "        print(domain, batch_images)\n",
        "        for img_path in batch_images:\n",
        "            img = self.imread(img_path)\n",
        "            if not is_testing:\n",
        "                img = resize(img, self.img_res)\n",
        "\n",
        "                if np.random.random() > 0.5:\n",
        "                    img = np.fliplr(img)\n",
        "            else:\n",
        "                img = resize(img, self.img_res)\n",
        "            imgs.append(img)\n",
        "\n",
        "        imgs = np.array(imgs)/127.5 - 1.\n",
        "\n",
        "        return imgs\n",
        "\n",
        "    def load_batch(self, batch_size=1, is_testing=False):\n",
        "        path_A = glob('./%s/%sA/*' % (self.dataset_name, \"train\"))\n",
        "        path_B = glob('./%s/%sB/*' % (self.dataset_name, \"train\"))\n",
        "        print(len(path_A), len(path_B))\n",
        "        self.n_batches = int(min(len(path_A), len(path_B)) / batch_size)      \n",
        "        total_samples = self.n_batches * batch_size\n",
        "\n",
        "        # Sample n_batches * batch_size from each path list so that model sees all\n",
        "        # samples from both domains\n",
        "        path_A = np.random.choice(path_A, total_samples, replace=False)\n",
        "        path_B = np.random.choice(path_B, total_samples, replace=False)\n",
        "\n",
        "        for i in range(self.n_batches-1):\n",
        "            batch_A = path_A[i*batch_size:(i+1)*batch_size]\n",
        "            batch_B = path_B[i*batch_size:(i+1)*batch_size]\n",
        "            imgs_A, imgs_B = [], []\n",
        "            for img_A, img_B in zip(batch_A, batch_B):            \n",
        "                img_A = self.imread(img_A)\n",
        "                img_B = self.imread(img_B)\n",
        "\n",
        "                img_A = resize(img_A, self.img_res)\n",
        "                img_B = resize(img_B, self.img_res)\n",
        "\n",
        "                if not is_testing and np.random.random() > 0.5:\n",
        "                        img_A = np.fliplr(img_A)\n",
        "                        img_B = np.fliplr(img_B)\n",
        "\n",
        "                imgs_A.append(img_A)\n",
        "                imgs_B.append(img_B)\n",
        "\n",
        "            imgs_A = np.array(imgs_A)/127.5 - 1.\n",
        "            imgs_B = np.array(imgs_B)/127.5 - 1.\n",
        "\n",
        "            yield imgs_A, imgs_B\n",
        "\n",
        "    def load_img(self, path):\n",
        "        img = self.imread(path)\n",
        "        img = resize(img, self.img_res)\n",
        "        img = img/127.5 - 1.\n",
        "        return img[np.newaxis, :, :, :]\n",
        "      \n",
        "    def get_img(self, img):\n",
        "        img = resize(img, self.img_res)\n",
        "        img = img/127.5 - 1.\n",
        "        return img\n",
        "      \n",
        "    def revert_img(self, img, new_res):\n",
        "      img = resize(img, new_res)\n",
        "      img = (img)*0.5 + 0.5\n",
        "      img = img*255\n",
        "      img = img.astype(np.float32)\n",
        "      return img \n",
        "\n",
        "    def imread(self, path):\n",
        "        return imageio.imread(path, as_gray=False, pilmode=\"RGB\").astype(np.float)\n",
        "      \n",
        "def revert_img(img, new_res):\n",
        "  img = (img)*0.5 + 0.5\n",
        "  img = img*255\n",
        "  img = resize(img, new_res)\n",
        "  img = img.astype(np.float32)\n",
        "  return img"
      ],
      "execution_count": 0,
      "outputs": []
    },
    {
      "cell_type": "markdown",
      "metadata": {
        "id": "G0a3FVVNL6s7",
        "colab_type": "text"
      },
      "source": [
        "CycleGan code\n",
        "Follow the tricks mentioned in the article"
      ]
    },
    {
      "cell_type": "code",
      "metadata": {
        "id": "Kv7Y7zIZL6s-",
        "colab_type": "code",
        "colab": {}
      },
      "source": [
        "from __future__ import print_function, division\n",
        "import scipy, os\n",
        "import scipy.misc\n",
        "\n",
        "from keras.datasets import mnist\n",
        "from keras_contrib.layers.normalization.instancenormalization import InstanceNormalization\n",
        "from keras.layers import Input, Dense, Reshape, Flatten, Dropout, Concatenate\n",
        "from keras.layers import BatchNormalization, Activation, ZeroPadding2D\n",
        "from keras.layers.advanced_activations import LeakyReLU\n",
        "from keras.activations import relu \n",
        "from keras.layers.convolutional import UpSampling2D, Conv2D, Conv2DTranspose\n",
        "from keras.models import Sequential, Model\n",
        "from keras.optimizers import Adam\n",
        "import datetime\n",
        "import matplotlib.pyplot as plt\n",
        "import sys\n",
        "import numpy as np\n",
        "import os\n",
        "import keras\n",
        "import shutil, os, random\n",
        "from keras.models import load_model\n",
        "\n",
        "class CycleGAN():\n",
        "    def __init__(self):\n",
        "        # Input shape\n",
        "        self.img_rows = 256\n",
        "        self.img_cols = 256\n",
        "        self.channels = 3\n",
        "        self.img_shape = (self.img_rows, self.img_cols, self.channels)  \n",
        "\n",
        "        # Configure data loader\n",
        "        self.dataset_name = 'data'\n",
        "        self.data_loader = DataLoader(dataset_name=self.dataset_name,\n",
        "                                      img_res=(self.img_rows, self.img_cols))\n",
        "\n",
        "\n",
        "        # Calculate output shape of D (PatchGAN)\n",
        "        patch = int(self.img_rows / 2**4)\n",
        "        self.disc_patch = (patch, patch, 1)\n",
        "\n",
        "        # Number of filters in the first layer of G and D\n",
        "        self.gf = 64\n",
        "        self.df = 64\n",
        "\n",
        "        # Loss weights\n",
        "        self.lambda_cycle = 0.1                   # Cycle-consistency loss\n",
        "        self.lambda_id = 0.1 * self.lambda_cycle    # Identity loss\n",
        "\n",
        "        optimizer = Adam(0.0002, 0.5)\n",
        "        pdir = \"/content/drive/My Drive/keras_combined_gan/\"\n",
        "        # Build and compile the discriminators\n",
        "        self.d_A = self.build_discriminator()\n",
        "        self.d_A.compile(loss='mse',\n",
        "          optimizer=optimizer,\n",
        "          metrics=['accuracy'])\n",
        "                \n",
        "        \n",
        "        self.d_B = self.build_discriminator()\n",
        "        self.d_B.compile(loss='mse',\n",
        "          optimizer=optimizer,\n",
        "          metrics=['accuracy'])\n",
        "        \n",
        "\n",
        "        #-------------------------\n",
        "        # Construct Computational\n",
        "        #   Graph of Generators\n",
        "        #-------------------------\n",
        "\n",
        "        # Build the generators\n",
        "        self.g_AB = self.build_generator()\n",
        "        self.g_BA = self.build_generator()\n",
        "\n",
        "        # Input images from both domains\n",
        "        img_A = Input(shape=self.img_shape)\n",
        "        img_B = Input(shape=self.img_shape)\n",
        "\n",
        "        # Translate images to the other domain\n",
        "        fake_B = self.g_AB(img_A)\n",
        "        fake_A = self.g_BA(img_B)\n",
        "        # Translate images back to original domain\n",
        "        reconstr_A = self.g_BA(fake_B)\n",
        "        reconstr_B = self.g_AB(fake_A)\n",
        "        # Identity mapping of images\n",
        "        img_A_id = self.g_BA(img_A)\n",
        "        img_B_id = self.g_AB(img_B)\n",
        "\n",
        "        # For the combined model we will only train the generators\n",
        "        self.d_A.trainable = False\n",
        "        self.d_B.trainable = False        \n",
        "\n",
        "        # Discriminators determines validity of translated images\n",
        "        valid_A = self.d_A(fake_A)\n",
        "        valid_B = self.d_B(fake_B)    \n",
        "\n",
        "        # Combined model trains generators to fool discriminators\n",
        "        self.combined = Model(inputs=[img_A, img_B],\n",
        "                                outputs=[ valid_A, valid_B,\n",
        "                                        reconstr_A, reconstr_B,\n",
        "                                        img_A_id, img_B_id ])\n",
        "        self.combined.compile(loss=['mse', 'mse',\n",
        "                                    'mae', 'mae',\n",
        "                                  'mae', 'mae'],\n",
        "                            loss_weights=[  1, 1,\n",
        "                                          self.lambda_cycle, self.lambda_cycle,\n",
        "                                          self.lambda_id, self.lambda_id ],\n",
        "                            optimizer=optimizer)\n",
        "\n",
        "    def build_generator(self):\n",
        "        \"\"\"Resnet Generator\"\"\"\n",
        "\n",
        "        def conv2d(layer_input, filters=16, strides=1, name=None, f_size=4):\n",
        "            d = Conv2D(filters, kernel_size=f_size, strides=strides, padding='same', name=name)(layer_input)\n",
        "            d = InstanceNormalization(name=name+\"_bn\")(d)\n",
        "            d = Activation('relu')(d)\n",
        "            return d\n",
        "          \n",
        "        def residual(layer_input, filters=16, strides=1, name=None, f_size=3):\n",
        "            d = conv2d(layer_input, filters=filters, strides=strides, name=name, f_size=f_size)\n",
        "            d = Conv2D(filters, kernel_size=f_size, strides=strides, padding='same', name=name+\"_2\")(d)\n",
        "            d = InstanceNormalization(name=name+\"_bn2\")(d)\n",
        "            d = keras.layers.add([d, layer_input])\n",
        "            return d\n",
        "\n",
        "        def conv2d_transpose(layer_input, filters=16, strides=1, name=None, f_size=4):\n",
        "            u = Conv2DTranspose(filters, strides=strides, name=name, kernel_size=f_size, padding='same')(layer_input)\n",
        "            u = InstanceNormalization(name=name+\"_bn\")(u)\n",
        "            u = Activation('relu')(u)\n",
        "            return u\n",
        "\n",
        "        # Image input\n",
        "        c0 = Input(shape=self.img_shape)\n",
        "        c1 = conv2d(c0, filters=self.gf, strides=1, name=\"g_e1\", f_size=7)\n",
        "        c2 = conv2d(c1, filters=self.gf*2, strides=2, name=\"g_e2\", f_size=3)\n",
        "        c3 = conv2d(c2, filters=self.gf*4, strides=2, name=\"g_e3\", f_size=3)\n",
        "        \n",
        "        r1 = residual(c3, filters=self.gf*4, name='g_r1')\n",
        "        r2 = residual(r1, self.gf*4, name='g_r2')\n",
        "        r3 = residual(r2, self.gf*4, name='g_r3')\n",
        "        r4 = residual(r3, self.gf*4, name='g_r4')\n",
        "        r5 = residual(r4, self.gf*4, name='g_r5')\n",
        "        r6 = residual(r5, self.gf*4, name='g_r6')\n",
        "        r7 = residual(r6, self.gf*4, name='g_r7')\n",
        "        r8 = residual(r7, self.gf*4, name='g_r8')\n",
        "        r9 = residual(r8, self.gf*4, name='g_r9')\n",
        "        \n",
        "        d1 = conv2d_transpose(r9, filters=self.gf*2, f_size=3, strides=2, name='g_d1_dc')\n",
        "        d2 = conv2d_transpose(d1, filters=self.gf, f_size=3, strides=2, name='g_d2_dc')\n",
        "        \n",
        "        output_img = Conv2D(self.channels, kernel_size=7, strides=1, padding='same', activation='tanh')(d2)\n",
        "\n",
        "        return Model(inputs=[c0], outputs=[output_img])\n",
        "\n",
        "    def build_discriminator(self):\n",
        "\n",
        "        def d_layer(layer_input, filters, f_size=4, normalization=True):\n",
        "            \"\"\"Discriminator layer\"\"\"\n",
        "            d = Conv2D(filters, kernel_size=f_size, strides=2, padding='same')(layer_input)\n",
        "            d = LeakyReLU(alpha=0.2)(d)\n",
        "            if normalization:\n",
        "                d = InstanceNormalization()(d)\n",
        "            return d\n",
        "\n",
        "        img = Input(shape=self.img_shape)\n",
        "\n",
        "        d1 = d_layer(img, self.df, normalization=False)\n",
        "        d2 = d_layer(d1, self.df*2)\n",
        "        d3 = d_layer(d2, self.df*4)\n",
        "        d4 = d_layer(d3, self.df*8)\n",
        "\n",
        "        validity = Conv2D(1, kernel_size=4, strides=1, padding='same')(d4)\n",
        "\n",
        "        return Model(img, validity)\n",
        "\n",
        "    def train(self, epochs, batch_size=1, sample_interval=50):\n",
        "\n",
        "        start_time = datetime.datetime.now()\n",
        "\n",
        "        # Adversarial loss ground truths\n",
        "        valid = np.ones((batch_size,) + self.disc_patch)\n",
        "        fake = np.zeros((batch_size,) + self.disc_patch)\n",
        "        for epoch in range(epochs):\n",
        "            for batch_i, (imgs_A, imgs_B) in enumerate(self.data_loader.load_batch(batch_size)):\n",
        "\n",
        "                # ----------------------\n",
        "                #  Train Discriminators\n",
        "                # ----------------------\n",
        "\n",
        "                # Translate images to opposite domain     \n",
        "                fake_B = self.g_AB.predict([imgs_A])\n",
        "                fake_A = self.g_BA.predict([imgs_B])\n",
        "\n",
        "                # Train the discriminators (original images = real / translated = Fake)\n",
        "                dA_loss_real = self.d_A.train_on_batch(imgs_A, valid)\n",
        "                dA_loss_fake = self.d_A.train_on_batch(fake_A, fake)               \n",
        "                dA_loss = 0.5 * np.add(dA_loss_real, dA_loss_fake)\n",
        "\n",
        "                dB_loss_real = self.d_B.train_on_batch(imgs_B, valid)                \n",
        "                dB_loss_fake = self.d_B.train_on_batch(fake_B, fake)                \n",
        "                dB_loss = 0.5 * np.add(dB_loss_real, dB_loss_fake)\n",
        "\n",
        "                # Total disciminator loss\n",
        "                d_loss = 0.5 * np.add(dA_loss, dB_loss)\n",
        "                \n",
        "                # ------------------\n",
        "                #  Train Generators\n",
        "                # ------------------\n",
        "\n",
        "                # Train the generators\n",
        "                g_loss = self.combined.train_on_batch([imgs_A, imgs_B],\n",
        "                                                        [valid, valid,\n",
        "                                                        imgs_A, imgs_B,\n",
        "                                                        imgs_A, imgs_B])                                          \n",
        "                \n",
        "                elapsed_time = datetime.datetime.now() - start_time\n",
        "                if batch_i%50==0:\n",
        "                  # Plot the progress\n",
        "                  print (\"[Age Epoch %d/%d] [Batch %d/%d] [D loss: %f, acc: %3d%%] [G loss: %05f, adv: %05f, recon: %05f, id: %05f]  time: %s \" \\\n",
        "                                                                          % ( epoch, epochs,\n",
        "                                                                              batch_i, self.data_loader.n_batches,\n",
        "                                                                              d_loss[0], 100*d_loss[1],\n",
        "                                                                              g_loss[0],\n",
        "                                                                              np.mean(g_loss[1:3]),\n",
        "                                                                              np.mean(g_loss[3:5]),\n",
        "                                                                              np.mean(g_loss[5:6]),\n",
        "                                                                              elapsed_time))  \n",
        "                  \n",
        "                                                                              \n",
        "                # If at save interval => save generated image samples\n",
        "                if batch_i % sample_interval == 0:\n",
        "                    self.sample_images(epoch, batch_i)    \n",
        "                  \n",
        "            \n",
        "    def sample_images(self, epoch, batch_i):\n",
        "        os.makedirs('images/%s' % self.dataset_name, exist_ok=True)\n",
        "        r, c = 2, 3\n",
        "        imgs_A = self.data_loader.load_data(domain=\"A\", batch_size=1, is_testing=False)\n",
        "        imgs_B = self.data_loader.load_data(domain=\"B\", batch_size=1, is_testing=False)\n",
        "\n",
        "        # Translate images to the other domain\n",
        "        fake_B = self.g_AB.predict([imgs_A])\n",
        "        fake_A = self.g_BA.predict([imgs_B])\n",
        "        # Translate back to original domain\n",
        "        reconstr_A = self.g_BA.predict([fake_B])\n",
        "        reconstr_B = self.g_AB.predict([fake_A])\n",
        "\n",
        "        gen_imgs = np.concatenate([imgs_A, fake_B, reconstr_A, imgs_B, fake_A, reconstr_B])\n",
        "\n",
        "        # Rescale images 0 - 1\n",
        "        gen_imgs = 0.5 * gen_imgs + 0.5\n",
        "\n",
        "        titles = ['Original', 'Translated', 'Reconstructed']\n",
        "        fig, axs = plt.subplots(r, c)\n",
        "        cnt = 0\n",
        "        for i in range(r):\n",
        "            for j in range(c):\n",
        "                axs[i,j].imshow(gen_imgs[cnt])\n",
        "                axs[i, j].set_title(titles[j])\n",
        "                axs[i,j].axis('off')\n",
        "                cnt += 1\n",
        "        fig.savefig(\"images/%s/%d_%d.png\" % (self.dataset_name, epoch, batch_i))\n",
        "        plt.close()\n",
        "        \n",
        "    def run_20_to_50(self, image):\n",
        "        imgs_A = self.data_loader.load_data(domain=\"A\", batch_size=1, is_testing=True)        \n",
        "        fake_B = self.g_AB.predict(imgs_A)\n",
        "\n",
        "gan = CycleGAN()\n",
        "gan.train(epochs=50, batch_size=2, sample_interval=10)"
      ],
      "execution_count": 0,
      "outputs": []
    },
    {
      "cell_type": "markdown",
      "metadata": {
        "id": "0L0X8aDAL6tn",
        "colab_type": "text"
      },
      "source": [
        "Face Detection"
      ]
    },
    {
      "cell_type": "code",
      "metadata": {
        "id": "86WqP9NLL6to",
        "colab_type": "code",
        "colab": {}
      },
      "source": [
        "!wget https://github.com/spmallick/learnopencv/raw/master/FaceDetectionComparison/models/opencv_face_detector_uint8.pb\n",
        "!wget https://raw.githubusercontent.com/opencv/opencv_extra/master/testdata/dnn/opencv_face_detector.pbtxt"
      ],
      "execution_count": 0,
      "outputs": []
    },
    {
      "cell_type": "code",
      "metadata": {
        "id": "4EDqZeEXL6tt",
        "colab_type": "code",
        "colab": {}
      },
      "source": [
        "!wget https://statics.sportskeeda.com/editor/2018/09/4c606-1536825356-800.jpg \n",
        "!mv 4c606-1536825356-800.jpg big3.jpg"
      ],
      "execution_count": 0,
      "outputs": []
    },
    {
      "cell_type": "code",
      "metadata": {
        "id": "KRY5G-0PL6t3",
        "colab_type": "code",
        "colab": {}
      },
      "source": [
        "import cv2\n",
        "%matplotlib inline \n",
        "from matplotlib import pyplot as plt\n",
        "from PIL import Image\n",
        "def detectFaceOpenCVDnn(net, frame):\n",
        "    frameOpencvDnn = frame.copy()\n",
        "    frameHeight = frameOpencvDnn.shape[0]\n",
        "    frameWidth = frameOpencvDnn.shape[1]\n",
        "    blob = cv2.dnn.blobFromImage(frameOpencvDnn, 1.0, (frameHeight, frameWidth), [104, 117, 123], False, False)\n",
        "\n",
        "    net.setInput(blob)\n",
        "    detections = net.forward()\n",
        "    bboxes = []\n",
        "    for i in range(detections.shape[2]):\n",
        "        confidence = detections[0, 0, i, 2]\n",
        "        if confidence > conf_threshold:\n",
        "            x1 = int(detections[0, 0, i, 3] * frameWidth)\n",
        "            y1 = int(detections[0, 0, i, 4] * frameHeight)\n",
        "            x2 = int(detections[0, 0, i, 5] * frameWidth)\n",
        "            y2 = int(detections[0, 0, i, 6] * frameHeight)\n",
        "            bboxes.append([x1, y1, x2, y2])\n",
        "            if not(x1<30 or y1<30 or x2>frameWidth-30 or y2>frameHeight-30):\n",
        "              y1, y2 = y1-20, y2+20\n",
        "              x1, x2 = x1-20, x2+20\n",
        "            else:\n",
        "              continue\n",
        "            crop_img = frameOpencvDnn[y1:y2, x1:x2]\n",
        "            crop_img = cv2.cvtColor(crop_img, cv2.COLOR_BGR2RGB).astype(\"float32\")\n",
        "            cv2.imwrite(\"cropped\"+str(i)+\".jpg\", crop_img)\n",
        "            inp = np.array([gan.data_loader.get_img(crop_img)])\n",
        "            old_img = gan.g_AB.predict([inp])\n",
        "            new_img = revert_img(old_img[0], (y2-y1, x2-x1))\n",
        "            new_img = cv2.cvtColor(new_img, cv2.COLOR_RGB2BGR).astype(\"float32\")\n",
        "            frameOpencvDnn[y1:y2, x1:x2] = new_img\n",
        "            scipy.misc.imsave(\"old\"+str(i)+\".jpg\", new_img)\n",
        "    return frameOpencvDnn, bboxes\n",
        "  \n",
        "conf_threshold = 0.8\n",
        "modelFile = \"opencv_face_detector_uint8.pb\"\n",
        "configFile = \"opencv_face_detector.pbtxt\"\n",
        "net = cv2.dnn.readNetFromTensorflow(modelFile, configFile)\n",
        "frame = cv2.imread(\"big3.jpg\")\n",
        "outOpencvDnn, bboxes = detectFaceOpenCVDnn(net,frame,0)\n",
        "cv2.imwrite(\"big3_old.jpg\", outOpencvDnn)\n",
        "outOpencvDnn, bboxes = detectFaceOpenCVDnn(net,frame,1)\n",
        "cv2.imwrite(\"big3_black.jpg\", outOpencvDnn)"
      ],
      "execution_count": 0,
      "outputs": []
    },
    {
      "cell_type": "code",
      "metadata": {
        "id": "uAkPXun9L6uB",
        "colab_type": "code",
        "colab": {}
      },
      "source": [
        ""
      ],
      "execution_count": 0,
      "outputs": []
    }
  ]
}